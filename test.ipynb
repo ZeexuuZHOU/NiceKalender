{
 "cells": [
  {
   "cell_type": "code",
   "execution_count": 1,
   "metadata": {},
   "outputs": [],
   "source": [
    "import json\n",
    "with open('databank.json', 'r') as f:\n",
    "  holidays = json.load(f)\n",
    "kk = holidays[\"available\"]"
   ]
  },
  {
   "cell_type": "code",
   "execution_count": 2,
   "metadata": {},
   "outputs": [],
   "source": [
    "holidays[\"available\"] = 27.5\n",
    "holidays[\"used\"] = 5\n",
    "with open('databank.json', 'w') as json_file:\n",
    "  json.dump(holidays, json_file)"
   ]
  },
  {
   "cell_type": "code",
   "execution_count": 6,
   "metadata": {},
   "outputs": [
    {
     "name": "stdout",
     "output_type": "stream",
     "text": [
      "21.5\n",
      "19.5\n",
      "13\n",
      "27.5\n"
     ]
    }
   ],
   "source": [
    "from holidays import Holidays\n",
    "holiday_cal = Holidays()\n",
    "print(holiday_cal.holidays_achieve[\"available\"])\n",
    "holiday_cal.new_holiday(2)\n",
    "print(holiday_cal.holidays_achieve[\"available\"])\n",
    "print(holiday_cal.holidays_achieve[\"used\"])\n",
    "holiday_cal.change_avai_holi(27.5)\n",
    "print(holiday_cal.holidays_achieve[\"available\"])"
   ]
  }
 ],
 "metadata": {
  "kernelspec": {
   "display_name": "Python 3",
   "language": "python",
   "name": "python3"
  },
  "language_info": {
   "codemirror_mode": {
    "name": "ipython",
    "version": 3
   },
   "file_extension": ".py",
   "mimetype": "text/x-python",
   "name": "python",
   "nbconvert_exporter": "python",
   "pygments_lexer": "ipython3",
   "version": "3.12.1"
  }
 },
 "nbformat": 4,
 "nbformat_minor": 2
}
